{
 "cells": [
  {
   "cell_type": "markdown",
   "metadata": {},
   "source": [
    "# Who is in the news?"
   ]
  },
  {
   "cell_type": "markdown",
   "metadata": {},
   "source": [
    "First we must install a couple of dependencies, import them, and enable inline plotting."
   ]
  },
  {
   "cell_type": "code",
   "execution_count": 1,
   "metadata": {},
   "outputs": [],
   "source": [
    "%%capture\n",
    "# ^ hiding large cell output. disable for logs.\n",
    "!pip3 install spacy==2.3.4 pandas==1.1.4 numpy==1.19.4 matplotlib==3.3.3\n",
    "!python3 -m spacy download en_core_web_sm"
   ]
  },
  {
   "cell_type": "code",
   "execution_count": 2,
   "metadata": {},
   "outputs": [],
   "source": [
    "import spacy\n",
    "import pandas as pd"
   ]
  },
  {
   "cell_type": "code",
   "execution_count": 3,
   "metadata": {},
   "outputs": [
    {
     "name": "stderr",
     "output_type": "stream",
     "text": [
      "\n",
      "Bad key backend.qt4 in file /etc/matplotlib/matplotlibrc, line 43 ('backend.qt4 : PyQt4        # PyQt4 | PySide')\n",
      "You probably need to get an updated matplotlibrc file from\n",
      "https://github.com/matplotlib/matplotlib/blob/v3.3.3/matplotlibrc.template\n",
      "or from the matplotlib source distribution\n"
     ]
    }
   ],
   "source": [
    "%matplotlib inline"
   ]
  },
  {
   "cell_type": "markdown",
   "metadata": {},
   "source": [
    "## Load data"
   ]
  },
  {
   "cell_type": "markdown",
   "metadata": {},
   "source": [
    "Data sourced from [Kaggle](https://www.kaggle.com/notlucasp/financial-news-headlines) and licensed as public domain."
   ]
  },
  {
   "cell_type": "code",
   "execution_count": 4,
   "metadata": {},
   "outputs": [],
   "source": [
    "reuters_headline_df = pd.read_csv('reuters_headlines.csv', parse_dates=[1])"
   ]
  },
  {
   "cell_type": "markdown",
   "metadata": {},
   "source": [
    "## Extract entities with spaCy"
   ]
  },
  {
   "cell_type": "markdown",
   "metadata": {},
   "source": [
    "To detect entities in text, we must use a statistical model. Here, we use spaCy's \"en_core_web_sm\" model. This is an English language model trained on web data, and is lightweight at 11MB. Larger versions of this model, and their performance characteristics, can be found in the [spaCy docs](https://spacy.io/models/en). spaCy also provides support for [non-English languages](https://spacy.io/usage/models#languages)."
   ]
  },
  {
   "cell_type": "code",
   "execution_count": 5,
   "metadata": {},
   "outputs": [],
   "source": [
    "nlp = spacy.load('en_core_web_sm')"
   ]
  },
  {
   "cell_type": "markdown",
   "metadata": {},
   "source": [
    "To extract entities from many headlines, it is considerably more performant to use spaCy's built in pipeline abstraction than to `apply` the operation with pandas. Since we care only about named entity extraction, we disable the tagger and parser to avoid unnecessary work, improving speed."
   ]
  },
  {
   "cell_type": "code",
   "execution_count": 6,
   "metadata": {},
   "outputs": [],
   "source": [
    "entity_pipe = nlp.pipe(reuters_headline_df.Headlines, disable=['tagger', 'parser'])"
   ]
  },
  {
   "cell_type": "code",
   "execution_count": 7,
   "metadata": {},
   "outputs": [],
   "source": [
    "# even with above performance considerations, this cell takes a minute\n",
    "reuters_headline_df['Entities'] = [x.ents for x in entity_pipe]"
   ]
  },
  {
   "cell_type": "markdown",
   "metadata": {},
   "source": [
    "Construct a new DataFrame with only the columns we care about."
   ]
  },
  {
   "cell_type": "code",
   "execution_count": 8,
   "metadata": {},
   "outputs": [],
   "source": [
    "entity_df = (\n",
    "    reuters_headline_df\n",
    "    .explode('Entities')\n",
    "    [['Time', 'Headlines', 'Entities']]\n",
    "    .rename(columns={'Entities': 'Entity', 'Headlines': 'Headline', 'Time': 'Date'})\n",
    "    .dropna()\n",
    "    .assign(\n",
    "        Label = lambda df: df.Entity.apply(lambda x: x.label_),\n",
    "        Entity = lambda df: df.Entity.apply(lambda x: x.text)\n",
    "    )\n",
    "    .reset_index(drop=True)\n",
    ")"
   ]
  },
  {
   "cell_type": "code",
   "execution_count": 9,
   "metadata": {},
   "outputs": [
    {
     "data": {
      "text/html": [
       "<div>\n",
       "<style scoped>\n",
       "    .dataframe tbody tr th:only-of-type {\n",
       "        vertical-align: middle;\n",
       "    }\n",
       "\n",
       "    .dataframe tbody tr th {\n",
       "        vertical-align: top;\n",
       "    }\n",
       "\n",
       "    .dataframe thead th {\n",
       "        text-align: right;\n",
       "    }\n",
       "</style>\n",
       "<table border=\"1\" class=\"dataframe\">\n",
       "  <thead>\n",
       "    <tr style=\"text-align: right;\">\n",
       "      <th></th>\n",
       "      <th>Date</th>\n",
       "      <th>Headline</th>\n",
       "      <th>Entity</th>\n",
       "      <th>Label</th>\n",
       "    </tr>\n",
       "  </thead>\n",
       "  <tbody>\n",
       "    <tr>\n",
       "      <th>0</th>\n",
       "      <td>2020-07-18</td>\n",
       "      <td>TikTok considers London and other locations fo...</td>\n",
       "      <td>London</td>\n",
       "      <td>GPE</td>\n",
       "    </tr>\n",
       "    <tr>\n",
       "      <th>1</th>\n",
       "      <td>2020-07-18</td>\n",
       "      <td>Disney cuts ad spending on Facebook amid growi...</td>\n",
       "      <td>Facebook</td>\n",
       "      <td>ORG</td>\n",
       "    </tr>\n",
       "    <tr>\n",
       "      <th>2</th>\n",
       "      <td>2020-07-18</td>\n",
       "      <td>Trail of missing Wirecard executive leads to B...</td>\n",
       "      <td>Wirecard</td>\n",
       "      <td>ORG</td>\n",
       "    </tr>\n",
       "    <tr>\n",
       "      <th>3</th>\n",
       "      <td>2020-07-18</td>\n",
       "      <td>Trail of missing Wirecard executive leads to B...</td>\n",
       "      <td>Belarus</td>\n",
       "      <td>GPE</td>\n",
       "    </tr>\n",
       "    <tr>\n",
       "      <th>4</th>\n",
       "      <td>2020-07-18</td>\n",
       "      <td>Trail of missing Wirecard executive leads to B...</td>\n",
       "      <td>Der Spiegel</td>\n",
       "      <td>PERSON</td>\n",
       "    </tr>\n",
       "  </tbody>\n",
       "</table>\n",
       "</div>"
      ],
      "text/plain": [
       "        Date                                           Headline       Entity  \\\n",
       "0 2020-07-18  TikTok considers London and other locations fo...       London   \n",
       "1 2020-07-18  Disney cuts ad spending on Facebook amid growi...     Facebook   \n",
       "2 2020-07-18  Trail of missing Wirecard executive leads to B...     Wirecard   \n",
       "3 2020-07-18  Trail of missing Wirecard executive leads to B...      Belarus   \n",
       "4 2020-07-18  Trail of missing Wirecard executive leads to B...  Der Spiegel   \n",
       "\n",
       "    Label  \n",
       "0     GPE  \n",
       "1     ORG  \n",
       "2     ORG  \n",
       "3     GPE  \n",
       "4  PERSON  "
      ]
     },
     "execution_count": 9,
     "metadata": {},
     "output_type": "execute_result"
    }
   ],
   "source": [
    "entity_df.head()"
   ]
  },
  {
   "cell_type": "markdown",
   "metadata": {},
   "source": [
    "Clearly, this is not perfect. Der Spiegel is not a person. Without a labeled test set, we cannot verify the robustness of the entity extraction on our particular data set. Metrics for the spaCy models are reported on the corresponding model page. It is an unavoidable reality of statistical models of text that they are imperfect."
   ]
  },
  {
   "cell_type": "markdown",
   "metadata": {},
   "source": [
    "## Most mentioned organisations"
   ]
  },
  {
   "cell_type": "markdown",
   "metadata": {},
   "source": [
    "We can now query. For instance, we could ask which organisations have been reported about most (by Reuters) in 2020:"
   ]
  },
  {
   "cell_type": "code",
   "execution_count": 10,
   "metadata": {},
   "outputs": [
    {
     "data": {
      "text/html": [
       "<div>\n",
       "<style scoped>\n",
       "    .dataframe tbody tr th:only-of-type {\n",
       "        vertical-align: middle;\n",
       "    }\n",
       "\n",
       "    .dataframe tbody tr th {\n",
       "        vertical-align: top;\n",
       "    }\n",
       "\n",
       "    .dataframe thead th {\n",
       "        text-align: right;\n",
       "    }\n",
       "</style>\n",
       "<table border=\"1\" class=\"dataframe\">\n",
       "  <thead>\n",
       "    <tr style=\"text-align: right;\">\n",
       "      <th></th>\n",
       "      <th>Entity</th>\n",
       "      <th>2020 Count</th>\n",
       "    </tr>\n",
       "  </thead>\n",
       "  <tbody>\n",
       "    <tr>\n",
       "      <th>0</th>\n",
       "      <td>Fed</td>\n",
       "      <td>256</td>\n",
       "    </tr>\n",
       "    <tr>\n",
       "      <th>1</th>\n",
       "      <td>Boeing</td>\n",
       "      <td>211</td>\n",
       "    </tr>\n",
       "    <tr>\n",
       "      <th>2</th>\n",
       "      <td>EU</td>\n",
       "      <td>194</td>\n",
       "    </tr>\n",
       "    <tr>\n",
       "      <th>3</th>\n",
       "      <td>Amazon</td>\n",
       "      <td>145</td>\n",
       "    </tr>\n",
       "    <tr>\n",
       "      <th>4</th>\n",
       "      <td>Huawei</td>\n",
       "      <td>126</td>\n",
       "    </tr>\n",
       "    <tr>\n",
       "      <th>5</th>\n",
       "      <td>Apple</td>\n",
       "      <td>113</td>\n",
       "    </tr>\n",
       "    <tr>\n",
       "      <th>6</th>\n",
       "      <td>Airbus</td>\n",
       "      <td>109</td>\n",
       "    </tr>\n",
       "    <tr>\n",
       "      <th>7</th>\n",
       "      <td>Facebook</td>\n",
       "      <td>94</td>\n",
       "    </tr>\n",
       "    <tr>\n",
       "      <th>8</th>\n",
       "      <td>MAX</td>\n",
       "      <td>93</td>\n",
       "    </tr>\n",
       "    <tr>\n",
       "      <th>9</th>\n",
       "      <td>Lufthansa</td>\n",
       "      <td>93</td>\n",
       "    </tr>\n",
       "  </tbody>\n",
       "</table>\n",
       "</div>"
      ],
      "text/plain": [
       "      Entity  2020 Count\n",
       "0        Fed         256\n",
       "1     Boeing         211\n",
       "2         EU         194\n",
       "3     Amazon         145\n",
       "4     Huawei         126\n",
       "5      Apple         113\n",
       "6     Airbus         109\n",
       "7   Facebook          94\n",
       "8        MAX          93\n",
       "9  Lufthansa          93"
      ]
     },
     "execution_count": 10,
     "metadata": {},
     "output_type": "execute_result"
    }
   ],
   "source": [
    "(\n",
    "    entity_df\n",
    "    [(entity_df.Label == \"ORG\") & (entity_df.Date.dt.year == 2020)]\n",
    "    .groupby('Entity')\n",
    "    .agg({'Headline': len})\n",
    "    .sort_values(by='Headline', ascending=False)\n",
    "    .reset_index()\n",
    "    .rename(columns={'Headline': '2020 Count'})\n",
    "    .head(10)\n",
    ")"
   ]
  },
  {
   "cell_type": "markdown",
   "metadata": {},
   "source": [
    "So the organisation with the most headlines in 2020 is the \"Fed\"&mdash;the U.S. Federal Reserve Board. This is believable. Let's see some of those headlines:"
   ]
  },
  {
   "cell_type": "code",
   "execution_count": 11,
   "metadata": {},
   "outputs": [
    {
     "data": {
      "text/plain": [
       "array(['Airlines scour the world for scarce 737 MAX simulators',\n",
       "       'Boeing scours idle 737 MAX plant for industrial snags',\n",
       "       'U.S. regulator: Airlines should complete inspections on 737 MAX panels before flying',\n",
       "       'Major 737 MAX buyer Air Lease remains confident in demand for jet',\n",
       "       'Latest 737 MAX delay prompts big buyer flydubai to consider leasing options',\n",
       "       'Boeing finds debris in fuel tanks of many undelivered 737 MAX jets',\n",
       "       'Trump urges Boeing to move fast on resolving 737 MAX issues',\n",
       "       'Exclusive: Boeing plans 737 MAX production restart by May - sources',\n",
       "       \"China's CDB Financial scraps purchase of 29 Boeing 737 MAX jets\",\n",
       "       'Boeing supplier Spirit announces layoffs due to virus, 737 MAX impacts'],\n",
       "      dtype=object)"
      ]
     },
     "execution_count": 11,
     "metadata": {},
     "output_type": "execute_result"
    }
   ],
   "source": [
    "entity_df[(entity_df.Date.dt.year == 2020) & (entity_df.Entity == \"MAX\")].sample(10).Headline.values"
   ]
  },
  {
   "cell_type": "markdown",
   "metadata": {},
   "source": [
    "## Timeline of mentions for a named entity\n",
    "\n",
    "We can also look at the occurrence of an organisation in the news over time."
   ]
  },
  {
   "cell_type": "code",
   "execution_count": 12,
   "metadata": {},
   "outputs": [],
   "source": [
    "def occurence_plot(entity_name):\n",
    "    ax = (\n",
    "        entity_df\n",
    "        [entity_df.Entity == entity_name]\n",
    "        .groupby('Date')\n",
    "        .agg(len)\n",
    "        .plot(\n",
    "            y='Entity',\n",
    "            drawstyle='steps',\n",
    "            legend=False,\n",
    "            figsize=(8,2)\n",
    "        )\n",
    "    )\n",
    "    ax.set_ylabel('Daily count')"
   ]
  },
  {
   "cell_type": "markdown",
   "metadata": {},
   "source": [
    "For instance, Boeing:"
   ]
  },
  {
   "cell_type": "code",
   "execution_count": 13,
   "metadata": {},
   "outputs": [
    {
     "data": {
      "image/png": "[encoded data removed]",
      "text/plain": [
       "<Figure size 576x144 with 1 Axes>"
      ]
     },
     "metadata": {
      "needs_background": "light"
     },
     "output_type": "display_data"
    }
   ],
   "source": [
    "occurence_plot('Boeing')"
   ]
  },
  {
   "cell_type": "markdown",
   "metadata": {},
   "source": [
    "There's a prominent spike in articles around March-April 2019. This corresponds to the [Boeing 737 MAX groundings](https://en.wikipedia.org/wiki/Boeing_737_MAX_groundings) following two unfortunate crashes. This also explains the presence of the \"MAX\" entity (misidentified as an organisation) in the top 10 mentioned organisations in 2020 (as testing continues)."
   ]
  }
 ],
 "metadata": {
  "kernelspec": {
   "display_name": "Python 3",
   "language": "python",
   "name": "python3"
  },
  "language_info": {
   "codemirror_mode": {
    "name": "ipython",
    "version": 3
   },
   "file_extension": ".py",
   "mimetype": "text/x-python",
   "name": "python",
   "nbconvert_exporter": "python",
   "pygments_lexer": "ipython3",
   "version": "3.6.9"
  }
 },
 "nbformat": 4,
 "nbformat_minor": 2
}
